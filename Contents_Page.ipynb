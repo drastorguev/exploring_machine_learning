{
 "cells": [
  {
   "cell_type": "markdown",
   "metadata": {},
   "source": [
    "## Contents Page"
   ]
  },
  {
   "cell_type": "markdown",
   "metadata": {},
   "source": [
    "### Short Introduction"
   ]
  },
  {
   "cell_type": "markdown",
   "metadata": {},
   "source": [
    "These notebooks contain various examples of the work I am doing in my spare time in order to learn more about machine learning."
   ]
  },
  {
   "cell_type": "markdown",
   "metadata": {},
   "source": [
    "<i>In addition I am currently working my way through various books on machine learning and implementing machine learning techniques they cover.</i>"
   ]
  },
  {
   "cell_type": "markdown",
   "metadata": {},
   "source": [
    "<b>\"An Introduction to Statistical Learning with Applications in R\" by Gareth James, Daniela Witten, Trevor Hastie and Robert Tibshirani</b>\n",
    "<ol>\n",
    "  <li><a href='https://nbviewer.jupyter.org/github/drastorguev/exploring_machine_learning/blob/master/ISLR-3.ipynb'>Chapter 3: Linear Regression</a></li>\n",
    "  <li><a href='https://nbviewer.jupyter.org/github/drastorguev/exploring_machine_learning/blob/master/ISLR-4.ipynb'>Chapter 4: Classification</a></li>\n",
    "</ol>"
   ]
  },
  {
   "cell_type": "markdown",
   "metadata": {},
   "source": [
    "<b>\"Hands-On Machine Learning with Scikit-Learn & Tensorflow\" by Aurelien Geron</b>\n",
    "<ol>\n",
    "  <li><a href='https://nbviewer.jupyter.org/github/drastorguev/exploring_machine_learning/blob/master/HOMLSLT-1.ipynb'>Chapter 1: The Machine Learning landscape</a></li>\n",
    "  <li><a href='https://nbviewer.jupyter.org/github/drastorguev/exploring_machine_learning/blob/master/HOMLSLT-2.ipynb'>Chapter 2: End to End Machine Learning Project</a></li>\n",
    "  <li><a href='https://nbviewer.jupyter.org/github/drastorguev/exploring_machine_learning/blob/master/HOMLSLT-3.ipynb'>Chapter 3: Classification</a></li>\n",
    "  <li><a href='https://nbviewer.jupyter.org/github/drastorguev/exploring_machine_learning/blob/master/HOMLSLT-4.ipynb'>Chapter 4: Training Linear Models</a></li>\n",
    "  <li><a href='https://nbviewer.jupyter.org/github/drastorguev/exploring_machine_learning/blob/master/HOMLSLT-5.ipynb'>Chapter 5: Support Vector Machines</a></li>\n",
    "  <li><a href='https://nbviewer.jupyter.org/github/drastorguev/exploring_machine_learning/blob/master/HOMLSLT-6.ipynb'>Chapter 6: Decision Trees</a></li>\n",
    "  <li><a href='https://nbviewer.jupyter.org/github/drastorguev/exploring_machine_learning/blob/master/HOMLSLT-7.ipynb'>Chapter 7: Ensemble Learning and Random Forests</a></li>\n",
    "  <li><a href='https://nbviewer.jupyter.org/github/drastorguev/exploring_machine_learning/blob/master/HOMLSLT-8.ipynb'>Chapter 8: Dimensionality Reduction</a></li>\n",
    "  <li><a href='https://nbviewer.jupyter.org/github/drastorguev/exploring_machine_learning/blob/master/HOMLSLT-9.ipynb'>Chapter 9: Up and running with TensorFlow</a></li>\n",
    "  <li><a href='https://nbviewer.jupyter.org/github/drastorguev/exploring_machine_learning/blob/master/HOMLSLT-10.ipynb'>Chapter 10: Introduction to Artificial Neural Networks</a></li>"
   ]
  },
  {
   "cell_type": "markdown",
   "metadata": {},
   "source": [
    "<b>\"Python Data Science Handbook\" by Jake VanderPlas</b>\n",
    "<ol>\n",
    "  <li><a href='https://nbviewer.jupyter.org/github/drastorguev/exploring_machine_learning/blob/master/PDSH-1.ipynb'>Part 1</a></li>\n",
    "    <li><a href='https://nbviewer.jupyter.org/github/drastorguev/exploring_machine_learning/blob/master/PDSH-2.ipynb'>Part 2</a></li>\n",
    "    <li><a href='https://nbviewer.jupyter.org/github/drastorguev/exploring_machine_learning/blob/master/PDSH-3.ipynb'>Part 3</a></li>\n",
    "    <li><a href='https://nbviewer.jupyter.org/github/drastorguev/exploring_machine_learning/blob/master/PDSH-4.ipynb'>Part 4</a></li>\n",
    "    <li><a href='https://nbviewer.jupyter.org/github/drastorguev/exploring_machine_learning/blob/master/PDSH-5.ipynb'>Part 5</a></li>\n",
    "    <li><a href='https://nbviewer.jupyter.org/github/drastorguev/exploring_machine_learning/blob/master/PDSH-6.ipynb'>Part 6</a></li>\n",
    "    <li><a href='https://nbviewer.jupyter.org/github/drastorguev/exploring_machine_learning/blob/master/PDSH-7.ipynb'>Part 7</a></li>\n",
    "    <li><a href='https://nbviewer.jupyter.org/github/drastorguev/exploring_machine_learning/blob/master/PDSH-8.ipynb'>Part 8</a></li>\n",
    "    <li><a href='https://nbviewer.jupyter.org/github/drastorguev/exploring_machine_learning/blob/master/PDSH-9.ipynb'>Part 9</a></li>\n",
    "    <li><a href='https://nbviewer.jupyter.org/github/drastorguev/exploring_machine_learning/blob/master/PDSH-10.ipynb'>Part 10</a></li>\n",
    "    <li><a href='https://nbviewer.jupyter.org/github/drastorguev/exploring_machine_learning/blob/master/PDSH-11.ipynb'>Part 11</a></li>\n",
    "    <li><a href='https://nbviewer.jupyter.org/github/drastorguev/exploring_machine_learning/blob/master/PDSH-12.ipynb'>Part 12</a></li>\n",
    "    <li><a href='https://nbviewer.jupyter.org/github/drastorguev/exploring_machine_learning/blob/master/PDSH-13.ipynb'>Part 13</a></li>\n",
    "    <li><a href='https://nbviewer.jupyter.org/github/drastorguev/exploring_machine_learning/blob/master/PDSH-14.ipynb'>Part 14</a></li>\n",
    "    <li><a href='https://nbviewer.jupyter.org/github/drastorguev/exploring_machine_learning/blob/master/PDSH-15.ipynb'>Part 15</a></li>\n",
    "</ol>"
   ]
  },
  {
   "cell_type": "markdown",
   "metadata": {},
   "source": [
    "<b>Random</b>\n",
    "<ol>\n",
    "  <li><a href='https://nbviewer.jupyter.org/github/drastorguev/exploring_machine_learning/blob/master/scikit-learn-2015-1.ipynb'>scikit-learn tutorial - part 1</a></li>\n",
    "    <li><a href='https://nbviewer.jupyter.org/github/drastorguev/exploring_machine_learning/blob/master/scikit-learn-2015-2.ipynb'>scikit-learn tutorial - part 2</a></li>\n",
    "    <li><a href='https://nbviewer.jupyter.org/github/drastorguev/exploring_machine_learning/blob/master/scikit-learn-2015-3.ipynb'>scikit-learn tutorial - part 3</a></li>\n",
    "    <li><a href='https://nbviewer.jupyter.org/github/drastorguev/exploring_machine_learning/blob/master/scikit-learn-2015-4.ipynb'>scikit-learn tutorial - part 4</a></li>\n",
    "    <li><a href='https://nbviewer.jupyter.org/github/drastorguev/exploring_machine_learning/blob/master/Linear_regression_tensorflow.ipynb'>linear regression tensorflow</a></li>\n",
    "    <li><a href='https://nbviewer.jupyter.org/github/drastorguev/exploring_machine_learning/blob/master/moist_tensorflow.ipynb'>moist tensorflow</a></li>\n",
    "    <li><a href='https://nbviewer.jupyter.org/github/drastorguev/exploring_machine_learning/blob/master/FTSE100_S&P500_Clustering.ipynb'>FTSE100 vs S&P500 Clustering</a></li>\n",
    "    <li><a href='https://nbviewer.jupyter.org/github/drastorguev/exploring_machine_learning/blob/master/Try1.ipynb'>Try 1</a></li>\n",
    "  <li>More to come....</li>\n",
    "</ol>"
   ]
  }
 ],
 "metadata": {
  "kernelspec": {
   "display_name": "Python 2",
   "language": "python",
   "name": "python2"
  },
  "language_info": {
   "codemirror_mode": {
    "name": "ipython",
    "version": 2
   },
   "file_extension": ".py",
   "mimetype": "text/x-python",
   "name": "python",
   "nbconvert_exporter": "python",
   "pygments_lexer": "ipython2",
   "version": "2.7.11"
  }
 },
 "nbformat": 4,
 "nbformat_minor": 2
}
