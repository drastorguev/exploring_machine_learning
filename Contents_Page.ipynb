{
 "cells": [
  {
   "cell_type": "markdown",
   "metadata": {},
   "source": [
    "## Contents Page"
   ]
  },
  {
   "cell_type": "markdown",
   "metadata": {},
   "source": [
    "### Short Introduction"
   ]
  },
  {
   "cell_type": "markdown",
   "metadata": {},
   "source": [
    "These notebooks contain various examples of the work I am doing in my spare time in order to learn more about machine learning."
   ]
  },
  {
   "cell_type": "markdown",
   "metadata": {},
   "source": [
    "<i>In addition I am currently working my way through various books on machine learning and implementing machine learning techniques they cover.</i>\n",
    "<br><br><b>\"Python Data Science Handbook\" by Jake VanderPlas</b>\n",
    "<ol>\n",
    "  <li><a href='https://nbviewer.jupyter.org/github/drastorguev/exploring_machine_learning/blob/master/PDSH-1.ipynb'>Part 1</a></li>\n",
    "    <li><a href='https://nbviewer.jupyter.org/github/drastorguev/exploring_machine_learning/blob/master/PDSH-2.ipynb'>Part 2</a></li>\n",
    "    <li><a href='https://nbviewer.jupyter.org/github/drastorguev/exploring_machine_learning/blob/master/PDSH-3.ipynb'>Part 3</a></li>\n",
    "    <li><a href='https://nbviewer.jupyter.org/github/drastorguev/exploring_machine_learning/blob/master/PDSH-4.ipynb'>Part 4</a></li>\n",
    "    <li><a href='https://nbviewer.jupyter.org/github/drastorguev/exploring_machine_learning/blob/master/PDSH-5.ipynb'>Part 5</a></li>\n",
    "    <li><a href='https://nbviewer.jupyter.org/github/drastorguev/exploring_machine_learning/blob/master/PDSH-6.ipynb'>Part 6</a></li>\n",
    "    <li><a href='https://nbviewer.jupyter.org/github/drastorguev/exploring_machine_learning/blob/master/PDSH-7.ipynb'>Part 7</a></li>\n",
    "    <li><a href='https://nbviewer.jupyter.org/github/drastorguev/exploring_machine_learning/blob/master/PDSH-8.ipynb'>Part 8</a></li>\n",
    "    <li><a href='https://nbviewer.jupyter.org/github/drastorguev/exploring_machine_learning/blob/master/PDSH-9.ipynb'>Part 9</a></li>\n",
    "    <li><a href='https://nbviewer.jupyter.org/github/drastorguev/exploring_machine_learning/blob/master/PDSH-10.ipynb'>Part 10</a></li>\n",
    "    <li><a href='https://nbviewer.jupyter.org/github/drastorguev/exploring_machine_learning/blob/master/PDSH-11.ipynb'>Part 11</a></li>\n",
    "    <li><a href='https://nbviewer.jupyter.org/github/drastorguev/exploring_machine_learning/blob/master/PDSH-12.ipynb'>Part 12</a></li>\n",
    "    <li><a href='https://nbviewer.jupyter.org/github/drastorguev/exploring_machine_learning/blob/master/PDSH-13.ipynb'>Part 13</a></li>\n",
    "    <li><a href='https://nbviewer.jupyter.org/github/drastorguev/exploring_machine_learning/blob/master/PDSH-14.ipynb'>Part 14</a></li>\n",
    "    <li><a href='https://nbviewer.jupyter.org/github/drastorguev/exploring_machine_learning/blob/master/PDSH-15.ipynb'>Part 15</a></li>\n",
    "</ol>"
   ]
  },
  {
   "cell_type": "markdown",
   "metadata": {},
   "source": [
    "<b>Random</b>\n",
    "<ol>\n",
    "  <li><a href='https://nbviewer.jupyter.org/github/drastorguev/exploring_machine_learning/blob/master/scikit-learn-2015-1.ipynb'>scikit-learn tutorial - part 1</a></li>\n",
    "    <li><a href='https://nbviewer.jupyter.org/github/drastorguev/exploring_machine_learning/blob/master/scikit-learn-2015-2.ipynb'>scikit-learn tutorial - part 2</a></li>\n",
    "    <li><a href='https://nbviewer.jupyter.org/github/drastorguev/exploring_machine_learning/blob/master/scikit-learn-2015-3.ipynb'>scikit-learn tutorial - part 3</a></li>\n",
    "    <li><a href='https://nbviewer.jupyter.org/github/drastorguev/exploring_machine_learning/blob/master/scikit-learn-2015-4.ipynb'>scikit-learn tutorial - part 4</a></li>\n",
    "    <li><a href='https://nbviewer.jupyter.org/github/drastorguev/exploring_machine_learning/blob/master/Linear_regression_tensorflow.ipynb'>linear regression tensorflow</a></li>\n",
    "    <li><a href='https://nbviewer.jupyter.org/github/drastorguev/exploring_machine_learning/blob/master/moist_tensorflow.ipynb'>moist tensorflow</a></li>\n",
    "    <li><a href='https://nbviewer.jupyter.org/github/drastorguev/exploring_machine_learning/blob/master/FTSE100_S&P500_Clustering.ipynb'>FTSE100 vs S&P500 Clustering</a></li>\n",
    "    <li><a href='https://nbviewer.jupyter.org/github/drastorguev/exploring_machine_learning/blob/master/Try1.ipynb'>Try 1</a></li>\n",
    "  <li>More to come....</li>\n",
    "</ol>"
   ]
  }
 ],
 "metadata": {
  "kernelspec": {
   "display_name": "Python 2",
   "language": "python",
   "name": "python2"
  },
  "language_info": {
   "codemirror_mode": {
    "name": "ipython",
    "version": 2
   },
   "file_extension": ".py",
   "mimetype": "text/x-python",
   "name": "python",
   "nbconvert_exporter": "python",
   "pygments_lexer": "ipython2",
   "version": "2.7.11"
  }
 },
 "nbformat": 4,
 "nbformat_minor": 2
}
