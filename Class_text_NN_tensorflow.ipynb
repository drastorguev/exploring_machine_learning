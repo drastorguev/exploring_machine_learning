{
 "cells": [
  {
   "cell_type": "markdown",
   "metadata": {},
   "source": [
    "Replicating the results from: https://github.com/dmesquita/understanding_tensorflow_nn"
   ]
  },
  {
   "cell_type": "code",
   "execution_count": 2,
   "metadata": {},
   "outputs": [],
   "source": [
    "import pandas as pd\n",
    "import numpy as np\n",
    "import tensorflow as tf\n",
    "from collections import Counter\n",
    "from sklearn.datasets import fetch_20newsgroups"
   ]
  },
  {
   "cell_type": "code",
   "execution_count": 3,
   "metadata": {},
   "outputs": [
    {
     "name": "stdout",
     "output_type": "stream",
     "text": [
      "[2 4 7]\n"
     ]
    }
   ],
   "source": [
    "import tensorflow as tf\n",
    "my_graph = tf.Graph()\n",
    "with tf.Session(graph=my_graph) as sess:\n",
    "    x = tf.constant([1,3,6]) \n",
    "    y = tf.constant([1,1,1])\n",
    "    op = tf.add(x,y)\n",
    "    result = sess.run(fetches=op)\n",
    "    print(result)"
   ]
  },
  {
   "cell_type": "code",
   "execution_count": 4,
   "metadata": {},
   "outputs": [],
   "source": [
    "vocab = Counter()\n",
    "\n",
    "text = \"Hi from Brazil\"\n",
    "\n",
    "for word in text.split(' '):\n",
    "    word_lowercase = word.lower()\n",
    "    vocab[word_lowercase]+=1\n",
    "        \n",
    "def get_word_2_index(vocab):\n",
    "    word2index = {}\n",
    "    for i,word in enumerate(vocab):\n",
    "        word2index[word] = i\n",
    "        \n",
    "    return word2index"
   ]
  },
  {
   "cell_type": "code",
   "execution_count": 5,
   "metadata": {},
   "outputs": [
    {
     "name": "stdout",
     "output_type": "stream",
     "text": [
      "('Hi from Brazil:', array([ 1.,  1.,  1.]))\n"
     ]
    }
   ],
   "source": [
    "word2index = get_word_2_index(vocab)\n",
    "\n",
    "total_words = len(vocab)\n",
    "matrix = np.zeros((total_words),dtype=float)\n",
    "\n",
    "for word in text.split():\n",
    "    matrix[word2index[word.lower()]] += 1\n",
    "    \n",
    "print(\"Hi from Brazil:\", matrix)"
   ]
  },
  {
   "cell_type": "code",
   "execution_count": 6,
   "metadata": {},
   "outputs": [
    {
     "name": "stdout",
     "output_type": "stream",
     "text": [
      "('Hi:', array([ 0.,  1.,  0.]))\n"
     ]
    }
   ],
   "source": [
    "matrix = np.zeros((total_words),dtype=float)\n",
    "text = \"Hi\"\n",
    "for word in text.split():\n",
    "    matrix[word2index[word.lower()]] += 1\n",
    "    \n",
    "print(\"Hi:\", matrix)"
   ]
  },
  {
   "cell_type": "code",
   "execution_count": 8,
   "metadata": {},
   "outputs": [
    {
     "name": "stdout",
     "output_type": "stream",
     "text": [
      "('total texts in train:', 1774)\n",
      "('total texts in test:', 1180)\n",
      "('text', u\"From: jk87377@lehtori.cc.tut.fi (Kouhia Juhana)\\nSubject: Re: More gray levels out of the screen\\nOrganization: Tampere University of Technology\\nLines: 21\\nDistribution: inet\\nNNTP-Posting-Host: cc.tut.fi\\n\\nIn article <1993Apr6.011605.909@cis.uab.edu> sloan@cis.uab.edu\\n(Kenneth Sloan) writes:\\n>\\n>Why didn't you create 8 grey-level images, and display them for\\n>1,2,4,8,16,32,64,128... time slices?\\n\\nBy '8 grey level images' you mean 8 items of 1bit images?\\nIt does work(!), but it doesn't work if you have more than 1bit\\nin your screen and if the screen intensity is non-linear.\\n\\nWith 2 bit per pixel; there could be 1*c_1 + 4*c_2 timing,\\nthis gives 16 levels, but they are linear if screen intensity is\\nlinear.\\nWith 1*c_1 + 2*c_2 it works, but we have to find the best\\ncompinations -- there's 10 levels, but 16 choises; best 10 must be\\nchosen. Different compinations for the same level, varies a bit, but\\nthe levels keeps their order.\\n\\nReaders should verify what I wrote... :-)\\n\\nJuhana Kouhia\\n\")\n",
      "('category:', 0)\n"
     ]
    }
   ],
   "source": [
    "categories = [\"comp.graphics\",\"sci.space\",\"rec.sport.baseball\"]\n",
    "newsgroups_train = fetch_20newsgroups(subset='train', categories=categories)\n",
    "newsgroups_test = fetch_20newsgroups(subset='test', categories=categories)\n",
    "print('total texts in train:',len(newsgroups_train.data))\n",
    "print('total texts in test:',len(newsgroups_test.data))\n",
    "print('text',newsgroups_train.data[0])\n",
    "print('category:',newsgroups_train.target[0])"
   ]
  },
  {
   "cell_type": "code",
   "execution_count": 9,
   "metadata": {},
   "outputs": [
    {
     "name": "stdout",
     "output_type": "stream",
     "text": [
      "('Total words:', 119930)\n"
     ]
    }
   ],
   "source": [
    "vocab = Counter()\n",
    "\n",
    "for text in newsgroups_train.data:\n",
    "    for word in text.split(' '):\n",
    "        vocab[word.lower()]+=1\n",
    "        \n",
    "for text in newsgroups_test.data:\n",
    "    for word in text.split(' '):\n",
    "        vocab[word.lower()]+=1\n",
    "print(\"Total words:\",len(vocab))"
   ]
  },
  {
   "cell_type": "code",
   "execution_count": 10,
   "metadata": {},
   "outputs": [
    {
     "name": "stdout",
     "output_type": "stream",
     "text": [
      "(\"Index of the word 'the':\", 79118)\n"
     ]
    }
   ],
   "source": [
    "total_words = len(vocab)\n",
    "\n",
    "def get_word_2_index(vocab):\n",
    "    word2index = {}\n",
    "    for i,word in enumerate(vocab):\n",
    "        word2index[word.lower()] = i\n",
    "        \n",
    "    return word2index\n",
    "\n",
    "word2index = get_word_2_index(vocab)\n",
    "\n",
    "print(\"Index of the word 'the':\",word2index['the'])"
   ]
  },
  {
   "cell_type": "code",
   "execution_count": 11,
   "metadata": {},
   "outputs": [],
   "source": [
    "def get_batch(df,i,batch_size):\n",
    "    batches = []\n",
    "    results = []\n",
    "    texts = df.data[i*batch_size:i*batch_size+batch_size]\n",
    "    categories = df.target[i*batch_size:i*batch_size+batch_size]\n",
    "    for text in texts:\n",
    "        layer = np.zeros(total_words,dtype=float)\n",
    "        for word in text.split(' '):\n",
    "            layer[word2index[word.lower()]] += 1\n",
    "            \n",
    "        batches.append(layer)\n",
    "        \n",
    "    for category in categories:\n",
    "        y = np.zeros((3),dtype=float)\n",
    "        if category == 0:\n",
    "            y[0] = 1.\n",
    "        elif category == 1:\n",
    "            y[1] = 1.\n",
    "        else:\n",
    "            y[2] = 1.\n",
    "        results.append(y)\n",
    "            \n",
    "     \n",
    "    return np.array(batches),np.array(results)"
   ]
  },
  {
   "cell_type": "code",
   "execution_count": 12,
   "metadata": {},
   "outputs": [
    {
     "name": "stdout",
     "output_type": "stream",
     "text": [
      "('Each batch has 100 texts and each matrix has 119930 elements (words):', (100, 119930))\n"
     ]
    }
   ],
   "source": [
    "print(\"Each batch has 100 texts and each matrix has 119930 elements (words):\",get_batch(newsgroups_train,1,100)[0].shape)"
   ]
  },
  {
   "cell_type": "code",
   "execution_count": 13,
   "metadata": {},
   "outputs": [
    {
     "name": "stdout",
     "output_type": "stream",
     "text": [
      "('Each batch has 100 labels and each matrix has 3 elements (3 categories):', (100, 3))\n"
     ]
    }
   ],
   "source": [
    "print(\"Each batch has 100 labels and each matrix has 3 elements (3 categories):\",get_batch(newsgroups_train,1,100)[1].shape)"
   ]
  },
  {
   "cell_type": "code",
   "execution_count": 14,
   "metadata": {},
   "outputs": [],
   "source": [
    "# Parameters\n",
    "learning_rate = 0.01\n",
    "training_epochs = 10\n",
    "batch_size = 150\n",
    "display_step = 1\n",
    "\n",
    "# Network Parameters\n",
    "n_hidden_1 = 100      # 1st layer number of features\n",
    "n_hidden_2 = 100       # 2nd layer number of features\n",
    "n_input = total_words # Words in vocab\n",
    "n_classes = 3         # Categories: graphics, sci.space and baseball\n",
    "\n",
    "input_tensor = tf.placeholder(tf.float32,[None, n_input],name=\"input\")\n",
    "output_tensor = tf.placeholder(tf.float32,[None, n_classes],name=\"output\") "
   ]
  },
  {
   "cell_type": "code",
   "execution_count": 15,
   "metadata": {},
   "outputs": [
    {
     "name": "stdout",
     "output_type": "stream",
     "text": [
      "('Epoch:', '0001', 'loss=', '1489.912725275')\n",
      "('Epoch:', '0002', 'loss=', '347.471237183')\n",
      "('Epoch:', '0003', 'loss=', '123.456910047')\n",
      "('Epoch:', '0004', 'loss=', '66.475142176')\n",
      "('Epoch:', '0005', 'loss=', '21.612364596')\n",
      "('Epoch:', '0006', 'loss=', '18.031229800')\n",
      "('Epoch:', '0007', 'loss=', '0.562660031')\n",
      "('Epoch:', '0008', 'loss=', '2.191208579')\n",
      "('Epoch:', '0009', 'loss=', '0.000000000')\n",
      "('Epoch:', '0010', 'loss=', '0.000000000')\n",
      "Optimization Finished!\n",
      "('Accuracy:', 0.69322032)\n"
     ]
    }
   ],
   "source": [
    "def multilayer_perceptron(input_tensor, weights, biases):\n",
    "    layer_1_multiplication = tf.matmul(input_tensor, weights['h1'])\n",
    "    layer_1_addition = tf.add(layer_1_multiplication, biases['b1'])\n",
    "    layer_1 = tf.nn.relu(layer_1_addition)\n",
    "    \n",
    "    # Hidden layer with RELU activation\n",
    "    layer_2_multiplication = tf.matmul(layer_1, weights['h2'])\n",
    "    layer_2_addition = tf.add(layer_2_multiplication, biases['b2'])\n",
    "    layer_2 = tf.nn.relu(layer_2_addition)\n",
    "    \n",
    "    # Output layer \n",
    "    out_layer_multiplication = tf.matmul(layer_2, weights['out'])\n",
    "    out_layer_addition = out_layer_multiplication + biases['out']\n",
    "    \n",
    "    return out_layer_addition\n",
    "# Store layers weight & bias\n",
    "weights = {\n",
    "    'h1': tf.Variable(tf.random_normal([n_input, n_hidden_1])),\n",
    "    'h2': tf.Variable(tf.random_normal([n_hidden_1, n_hidden_2])),\n",
    "    'out': tf.Variable(tf.random_normal([n_hidden_2, n_classes]))\n",
    "}\n",
    "biases = {\n",
    "    'b1': tf.Variable(tf.random_normal([n_hidden_1])),\n",
    "    'b2': tf.Variable(tf.random_normal([n_hidden_2])),\n",
    "    'out': tf.Variable(tf.random_normal([n_classes]))\n",
    "}\n",
    "\n",
    "# Construct model\n",
    "prediction = multilayer_perceptron(input_tensor, weights, biases)\n",
    "\n",
    "# Define loss and optimizer\n",
    "loss = tf.reduce_mean(tf.nn.softmax_cross_entropy_with_logits(logits=prediction, labels=output_tensor))\n",
    "optimizer = tf.train.AdamOptimizer(learning_rate=learning_rate).minimize(loss)\n",
    "\n",
    "# Initializing the variables\n",
    "init = tf.global_variables_initializer()\n",
    "# Launch the graph\n",
    "with tf.Session() as sess:\n",
    "    sess.run(init)\n",
    "\n",
    "    # Training cycle\n",
    "    for epoch in range(training_epochs):\n",
    "        avg_cost = 0.\n",
    "        total_batch = int(len(newsgroups_train.data)/batch_size)\n",
    "        # Loop over all batches\n",
    "        for i in range(total_batch):\n",
    "            batch_x,batch_y = get_batch(newsgroups_train,i,batch_size)\n",
    "            # Run optimization op (backprop) and cost op (to get loss value)\n",
    "            c,_ = sess.run([loss,optimizer], feed_dict={input_tensor: batch_x,output_tensor:batch_y})\n",
    "            # Compute average loss\n",
    "            avg_cost += c / total_batch\n",
    "        # Display logs per epoch step\n",
    "        if epoch % display_step == 0:\n",
    "            print(\"Epoch:\", '%04d' % (epoch+1), \"loss=\", \\\n",
    "                \"{:.9f}\".format(avg_cost))\n",
    "    print(\"Optimization Finished!\")\n",
    "\n",
    "    # Test model\n",
    "    correct_prediction = tf.equal(tf.argmax(prediction, 1), tf.argmax(output_tensor, 1))\n",
    "    # Calculate accuracy\n",
    "    accuracy = tf.reduce_mean(tf.cast(correct_prediction, \"float\"))\n",
    "    total_test_data = len(newsgroups_test.target)\n",
    "    batch_x_test,batch_y_test = get_batch(newsgroups_test,0,total_test_data)\n",
    "    print(\"Accuracy:\", accuracy.eval({input_tensor: batch_x_test, output_tensor: batch_y_test}))"
   ]
  }
 ],
 "metadata": {
  "kernelspec": {
   "display_name": "Python 2",
   "language": "python",
   "name": "python2"
  },
  "language_info": {
   "codemirror_mode": {
    "name": "ipython",
    "version": 2
   },
   "file_extension": ".py",
   "mimetype": "text/x-python",
   "name": "python",
   "nbconvert_exporter": "python",
   "pygments_lexer": "ipython2",
   "version": "2.7.11"
  }
 },
 "nbformat": 4,
 "nbformat_minor": 2
}
